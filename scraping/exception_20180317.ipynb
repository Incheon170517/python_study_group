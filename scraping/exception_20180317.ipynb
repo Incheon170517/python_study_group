{
 "cells": [
  {
   "cell_type": "code",
   "execution_count": 4,
   "metadata": {},
   "outputs": [
    {
     "name": "stdout",
     "output_type": "stream",
     "text": [
      "천사\n",
      "허용되지 않는 별명입니다.\n"
     ]
    }
   ],
   "source": [
    "class MyError(Exception):\n",
    "    def __str__(self):\n",
    "        return \"허용되지 않는 별명입니다.\"\n",
    "    \n",
    "def say_nick(nick):\n",
    "    if nick == '바보':\n",
    "        raise MyError()\n",
    "    print(nick)\n",
    "try:\n",
    "    say_nick(\"천사\")\n",
    "    say_nick(\"바보\")\n",
    "except MyError as e:\n",
    "    print(e)"
   ]
  },
  {
   "cell_type": "code",
   "execution_count": 21,
   "metadata": {},
   "outputs": [
    {
     "name": "stdout",
     "output_type": "stream",
     "text": [
      "2.0\n",
      "0으로 나누기 불가함\n"
     ]
    }
   ],
   "source": [
    "class MyError(ZeroDivisionError):\n",
    "    def __str__(self):\n",
    "        return \"0으로 나누기 불가함\"\n",
    "def say_divide(a,b):\n",
    "    if b == 0:\n",
    "        raise MyError()\n",
    "    else:\n",
    "        print(a/b)\n",
    "\n",
    "try:\n",
    "    say_divide(4,2)\n",
    "    say_divide(4,0)\n",
    "except MyError as e:\n",
    "    print(e)"
   ]
  },
  {
   "cell_type": "code",
   "execution_count": 22,
   "metadata": {
    "collapsed": true
   },
   "outputs": [],
   "source": [
    "# Jypter 단축키 / 매직 명령어 \n",
    "### Reference\n",
    "- [jupyter doc](http://nbviewer.jupyter.org/gist/irobii/014b8aa3574090a0d04a#3.1.5-키보드-단축키)\n",
    "- [Jupyter notebook 이해하기 by Yong Joon Moon](https://www.slideshare.net/dahlmoon/jupyter-notebok-20160815)\n",
    "- [28 Jupyter 노트북 팁, 트릭 및 바로 가기](https://www.dataquest.io/blog/jupyter-notebook-tips-tricks-shortcuts/)                \n",
    "## 자주 쓰이는 기능\n",
    "- 셀에서 command 실행 가능\n",
    "- Esc + h : 도움말 나옴\n",
    "- tab : 자동완성\n",
    "- shift + enter : 실행\n",
    "- shifr + tab : 함수/객체 정보 조회 / '' + ? : '?' 붙이면 내부 정보 \n",
    "- '' + ?? : '??' 붙이면 example source 출력"
   ]
  }
 ],
 "metadata": {
  "kernelspec": {
   "display_name": "Python 3",
   "language": "python",
   "name": "python3"
  },
  "language_info": {
   "codemirror_mode": {
    "name": "ipython",
    "version": 3
   },
   "file_extension": ".py",
   "mimetype": "text/x-python",
   "name": "python",
   "nbconvert_exporter": "python",
   "pygments_lexer": "ipython3",
   "version": "3.6.2"
  }
 },
 "nbformat": 4,
 "nbformat_minor": 2
}
