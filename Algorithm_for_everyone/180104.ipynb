{
 "cells": [
  {
   "cell_type": "code",
   "execution_count": 2,
   "metadata": {},
   "outputs": [
    {
     "name": "stdout",
     "output_type": "stream",
     "text": [
      "b'<?xml version=\"1.0\" encoding=\"UTF-8\" standalone=\"yes\"?><response><header><resultCode>99</resultCode><resultMsg>SERVICE KEY IS NOT REGISTERED ERROR.</resultMsg></header></response>'\n"
     ]
    }
   ],
   "source": [
    "import urllib.parse as urlparse\n",
    "from urllib.parse import urlencode\n",
    "import urllib.request\n",
    "\n",
    "url = \"http://openapi.airport.co.kr/service/rest/FlightStatusList/getFlightStatusList\"\n",
    "service_key = \"FvQEWvb4UXm31iCKhuIHRwkS%2Bo9EtwAWgPJBTrrYycPSPIyJtUaZGbW7KxMZI1JQjezEy3CTcYzJ6BOlGu8Y0A%3D%3D\"\n",
    "params = {'tag':'python','schLineType' : 'D / I', 'schIOType' : 'I / 0', 'schAirCode' : 'GMP', 'serviceKey' : service_key, 'schStTime' : '0600', 'schEdTime' : '1800' }\n",
    "\n",
    "url_parts = list(urlparse.urlparse(url))\n",
    "query = dict(urlparse.parse_qsl(url_parts[4]))\n",
    "query.update(params)\n",
    "\n",
    "\n",
    "url_parts[4] = urlencode(query)\n",
    "req_url = urlparse.urlunparse(url_parts)\n",
    "\n",
    "req = urllib.request.Request(req_url)\n",
    "data = urllib.request.urlopen(req).read()\n",
    "print(data)\n"
   ]
  },
  {
   "cell_type": "code",
   "execution_count": null,
   "metadata": {
    "collapsed": true
   },
   "outputs": [],
   "source": []
  },
  {
   "cell_type": "code",
   "execution_count": null,
   "metadata": {
    "collapsed": true
   },
   "outputs": [],
   "source": []
  }
 ],
 "metadata": {
  "kernelspec": {
   "display_name": "Python 3",
   "language": "python",
   "name": "python3"
  },
  "language_info": {
   "codemirror_mode": {
    "name": "ipython",
    "version": 3
   },
   "file_extension": ".py",
   "mimetype": "text/x-python",
   "name": "python",
   "nbconvert_exporter": "python",
   "pygments_lexer": "ipython3",
   "version": "3.6.3"
  }
 },
 "nbformat": 4,
 "nbformat_minor": 2
}
