{
 "cells": [
  {
   "cell_type": "markdown",
   "metadata": {},
   "source": [
    "# 20171111\n",
    "- 30분 넘으면 5분동안 코드 보고 덮고 다시 풀어보기\n",
    "- 1시간마다 5분씩 쉽시다 \n",
    "- 스터디했던 자료 GitHub commit\n",
    "\n",
    "## TODO\n",
    "- [] 세번째 마당 - 탐색과 정렬 \n",
    "- [] 책 다 마치고 하노이, 6-1 연습문제 풀어보기 : 지금 DeadLock..\n",
    "\n",
    "## 배움\n",
    "- 재귀호출에는 return (remember gcd)\n"
   ]
  },
  {
   "cell_type": "code",
   "execution_count": 12,
   "metadata": {},
   "outputs": [
    {
     "name": "stdout",
     "output_type": "stream",
     "text": [
      "12\n"
     ]
    }
   ],
   "source": [
    "# Brutal\n",
    "def gcd(a,b):\n",
    "    i = min(a,b)\n",
    "    while True:\n",
    "        if(a%i==0 and b%i==0):\n",
    "            print(i)\n",
    "            return i\n",
    "        i = i -1\n",
    "    \n",
    "assert gcd(60,24) == 12"
   ]
  },
  {
   "cell_type": "code",
   "execution_count": 85,
   "metadata": {},
   "outputs": [
    {
     "name": "stdout",
     "output_type": "stream",
     "text": [
      "a,b 24 60\n",
      "a,b 60 24\n",
      "a,b 24 12\n",
      "a,b 12 0\n"
     ]
    }
   ],
   "source": [
    "# Recurrsive is Cool - Euclidean algorithm\n",
    "def gcd(a,b):\n",
    "    #print(\"a,b:\",a,b)\n",
    "    if b == 0:\n",
    "        return a\n",
    "    return gcd(b, a%b)     \n",
    "    \n",
    "#assert gcd(60,0) == 60\n",
    "assert gcd(24,60) == 12\n",
    "#assert gcd(78696,19332) == 36"
   ]
  },
  {
   "cell_type": "code",
   "execution_count": 95,
   "metadata": {},
   "outputs": [
    {
     "name": "stdout",
     "output_type": "stream",
     "text": [
      "13\n"
     ]
    }
   ],
   "source": [
    "#Fibonachi\n",
    "def fibo(n):\n",
    "    if n <= 1:\n",
    "        return n\n",
    "    return fibo(n-2)+fibo(n-1)\n",
    "\n",
    "print(fibo(7))\n",
    "assert fibo(7) == 13\n",
    "assert fibo(0) == 0\n"
   ]
  },
  {
   "cell_type": "code",
   "execution_count": 119,
   "metadata": {},
   "outputs": [
    {
     "name": "stdout",
     "output_type": "stream",
     "text": [
      "1 / b : a -> c\n",
      "middle 2 / c : a -> b\n",
      "1 / a : c -> b\n",
      "middle 3 / b : a -> c\n",
      "1 / c : b -> a\n",
      "middle 2 / a : b -> c\n",
      "1 / b : a -> c\n"
     ]
    }
   ],
   "source": [
    "#Hanoi\n",
    "#Input :  n = 옮길 원반갯수 / from_pos = 옮길원반 현재 기둥 \n",
    "# to_pos = 옮길원반 도착기둥 / aux_pos = 과정에서 사용할 보조기둥\n",
    "#Output : 원반옮기는 순서\n",
    "\n",
    "def hanoi(n,from_pos,to_pos,aux_pos):\n",
    "    ## 탈출조건\n",
    "    i = n\n",
    "    if n == 1:\n",
    "        print(i,\"/\",aux_pos,\":\",from_pos, \"->\", to_pos)\n",
    "        return\n",
    "    \n",
    "    # 원반 n개를 보조기둥으로 \n",
    "    hanoi(n-1, from_pos, aux_pos, to_pos)\n",
    "    print(\"middle\",i,\"/\",aux_pos,\":\",from_pos, \"->\", to_pos)\n",
    "    \n",
    "    \n",
    "    \n",
    "    hanoi(n-1, aux_pos, to_pos, from_pos)\n",
    "\n",
    "#print(\"n=1\")\n",
    "#hanoi(1,1,3,2)\n",
    "\n",
    "#hanoi(4,\"a\",\"c\",\"b\")\n",
    "hanoi(3,\"a\",\"c\",\"b\")\n",
    "\n",
    "\n"
   ]
  },
  {
   "cell_type": "code",
   "execution_count": null,
   "metadata": {
    "collapsed": true
   },
   "outputs": [],
   "source": []
  }
 ],
 "metadata": {
  "kernelspec": {
   "display_name": "Python 3",
   "language": "python",
   "name": "python3"
  },
  "language_info": {
   "codemirror_mode": {
    "name": "ipython",
    "version": 3
   },
   "file_extension": ".py",
   "mimetype": "text/x-python",
   "name": "python",
   "nbconvert_exporter": "python",
   "pygments_lexer": "ipython3",
   "version": "3.6.2"
  }
 },
 "nbformat": 4,
 "nbformat_minor": 2
}
