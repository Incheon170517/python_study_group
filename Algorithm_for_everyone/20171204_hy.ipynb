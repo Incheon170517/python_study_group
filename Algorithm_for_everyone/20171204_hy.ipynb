{
 "cells": [
  {
   "cell_type": "code",
   "execution_count": 48,
   "metadata": {},
   "outputs": [
    {
     "name": "stdout",
     "output_type": "stream",
     "text": [
      "5\n",
      "4\n",
      "2\n",
      "3\n",
      "1\n"
     ]
    }
   ],
   "source": [
    "\n",
    "def sort_desc_idx(a, temp):\n",
    "    for i in range(0,len(a)):\n",
    "        if temp>a[i]:\n",
    "            return i\n",
    "    return len(a)\n",
    "\n",
    "def def_result(v):\n",
    "    result = []\n",
    "    while v:\n",
    "        resul_dump = v\n",
    "        max_idx = sort_desc_idx(v, v[0])\n",
    "        #result.insert(max_idx,resul_dump[max_idx])\n",
    "        print(v[max_idx-1])\n",
    "        v.pop(max_idx-1)\n",
    "#        print(v,max_idx)\n",
    "        \n",
    "    \n",
    "            \n",
    "        \n",
    "d = [2,4,5,1,3]\n",
    "def_result(d)"
   ]
  },
  {
   "cell_type": "code",
   "execution_count": null,
   "metadata": {
    "collapsed": true
   },
   "outputs": [],
   "source": []
  },
  {
   "cell_type": "code",
   "execution_count": null,
   "metadata": {
    "collapsed": true
   },
   "outputs": [],
   "source": []
  },
  {
   "cell_type": "code",
   "execution_count": null,
   "metadata": {
    "collapsed": true
   },
   "outputs": [],
   "source": []
  }
 ],
 "metadata": {
  "kernelspec": {
   "display_name": "Python 3",
   "language": "python",
   "name": "python3"
  },
  "language_info": {
   "codemirror_mode": {
    "name": "ipython",
    "version": 3
   },
   "file_extension": ".py",
   "mimetype": "text/x-python",
   "name": "python",
   "nbconvert_exporter": "python",
   "pygments_lexer": "ipython3",
   "version": "3.6.3"
  }
 },
 "nbformat": 4,
 "nbformat_minor": 2
}
