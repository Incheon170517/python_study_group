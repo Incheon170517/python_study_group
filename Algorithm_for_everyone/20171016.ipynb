{
 "cells": [
  {
   "cell_type": "markdown",
   "metadata": {
    "collapsed": true
   },
   "source": [
    "### Question01_version.01"
   ]
  },
  {
   "cell_type": "code",
   "execution_count": 3,
   "metadata": {
    "scrolled": true
   },
   "outputs": [
    {
     "name": "stdout",
     "output_type": "stream",
     "text": [
      "55\n"
     ]
    }
   ],
   "source": [
    "def sum_n(n):\n",
    "    return n * (n+1) // 2\n",
    "\n",
    "print(sum_n(10))"
   ]
  },
  {
   "cell_type": "markdown",
   "metadata": {},
   "source": [
    "### Question01_version.02"
   ]
  },
  {
   "cell_type": "code",
   "execution_count": 21,
   "metadata": {},
   "outputs": [
    {
     "name": "stdout",
     "output_type": "stream",
     "text": [
      "55\n"
     ]
    }
   ],
   "source": [
    "def sum_brutal_n(n):\n",
    "    total = 0\n",
    "    for i in range (1, n+1):\n",
    "        total += i\n",
    "    return total\n",
    "\n",
    "print(sum_brutal_n(10))"
   ]
  },
  {
   "cell_type": "code",
   "execution_count": 17,
   "metadata": {
    "scrolled": false
   },
   "outputs": [
    {
     "ename": "TypeError",
     "evalue": "'total' is an invalid keyword argument for this function",
     "output_type": "error",
     "traceback": [
      "\u001b[0;31m---------------------------------------------------------------------------\u001b[0m",
      "\u001b[0;31mTypeError\u001b[0m                                 Traceback (most recent call last)",
      "\u001b[0;32m<ipython-input-17-868082aa463d>\u001b[0m in \u001b[0;36m<module>\u001b[0;34m()\u001b[0m\n\u001b[1;32m      1\u001b[0m \u001b[0mtotal\u001b[0m\u001b[0;34m=\u001b[0m \u001b[0;36m0\u001b[0m\u001b[0;34m\u001b[0m\u001b[0m\n\u001b[1;32m      2\u001b[0m \u001b[0;32mfor\u001b[0m \u001b[0mi\u001b[0m \u001b[0;32min\u001b[0m \u001b[0mrange\u001b[0m\u001b[0;34m(\u001b[0m\u001b[0;36m1\u001b[0m\u001b[0;34m,\u001b[0m\u001b[0;36m10\u001b[0m\u001b[0;34m)\u001b[0m\u001b[0;34m:\u001b[0m\u001b[0;34m\u001b[0m\u001b[0m\n\u001b[0;32m----> 3\u001b[0;31m     \u001b[0mprint\u001b[0m\u001b[0;34m(\u001b[0m\u001b[0mtotal\u001b[0m \u001b[0;34m=\u001b[0m \u001b[0mi\u001b[0m\u001b[0;34m+\u001b[0m\u001b[0mtotal\u001b[0m\u001b[0;34m)\u001b[0m\u001b[0;34m\u001b[0m\u001b[0m\n\u001b[0m\u001b[1;32m      4\u001b[0m \u001b[0;34m\u001b[0m\u001b[0m\n",
      "\u001b[0;31mTypeError\u001b[0m: 'total' is an invalid keyword argument for this function"
     ]
    }
   ],
   "source": [
    "# error"
   ]
  },
  {
   "cell_type": "markdown",
   "metadata": {},
   "source": [
    "#### How to print"
   ]
  },
  {
   "cell_type": "code",
   "execution_count": 1,
   "metadata": {},
   "outputs": [
    {
     "name": "stdout",
     "output_type": "stream",
     "text": [
      "total = 7\n",
      "df dd\n"
     ]
    }
   ],
   "source": [
    "x = 3\n",
    "y = 4\n",
    "total = 0\n",
    "\n",
    "print (\"total =\", x+y)\n",
    "\n",
    "print(\"df \" + \"dd\")"
   ]
  },
  {
   "cell_type": "markdown",
   "metadata": {},
   "source": [
    "### Question02_Find Maximum value"
   ]
  },
  {
   "cell_type": "code",
   "execution_count": 28,
   "metadata": {},
   "outputs": [
    {
     "data": {
      "text/plain": [
       "45"
      ]
     },
     "execution_count": 28,
     "metadata": {},
     "output_type": "execute_result"
    }
   ],
   "source": [
    "def find_max(a):\n",
    "    maxi = a[0]\n",
    "    for i in a:\n",
    "        if maxi < i :\n",
    "            maxi = i\n",
    "    \n",
    "    return maxi\n",
    "\n",
    "b=[1,2,3,45,6,7,23]\n",
    "find_max(b)"
   ]
  },
  {
   "cell_type": "markdown",
   "metadata": {},
   "source": [
    "### Question03_Find same name"
   ]
  },
  {
   "cell_type": "code",
   "execution_count": 3,
   "metadata": {},
   "outputs": [
    {
     "data": {
      "text/plain": [
       "{'A', 'D', 'E'}"
      ]
     },
     "execution_count": 3,
     "metadata": {},
     "output_type": "execute_result"
    }
   ],
   "source": [
    "# n 명 사람이름 중에서 같은 이름을 찾아 집합으로 만들어 돌려주는 알고리즘 \n",
    "# requirement\n",
    "# 1 같은 이름 찾기\n",
    "# 2 집합에 저장\n",
    "# 3 (optional)print\n",
    "\n",
    "def find_same(a):\n",
    "    n=len(a)\n",
    "    ppl=set()\n",
    "    for i in range(n-1):\n",
    "        for j in range(i+1,n):\n",
    "            if a[j] == a[i]:\n",
    "                ppl.add(a[i])  \n",
    "    return ppl\n",
    "            \n",
    "a = [\"A\",\"A\",\"B\",\"C\",\"D\",\"D\",\"E\",\"E\",\"F\"]\n",
    "\n",
    "find_same(a)\n"
   ]
  },
  {
   "cell_type": "markdown",
   "metadata": {},
   "source": [
    "### Question14_Find same name"
   ]
  },
  {
   "cell_type": "code",
   "execution_count": 2,
   "metadata": {},
   "outputs": [
    {
     "data": {
      "text/plain": [
       "{'A', 'D', 'E'}"
      ]
     },
     "execution_count": 2,
     "metadata": {},
     "output_type": "execute_result"
    }
   ],
   "source": [
    "# n 명 사람이름 중에서 같은 이름을 찾아 집합으로 만들어 돌려주는 알고리즘 \n",
    "\n",
    "def find_samename_dic(a):\n",
    "    # Using dictionary : name - 출현횟수  \n",
    "    name=dict()\n",
    "    ppl = set()\n",
    "    \n",
    "    for i in range(len(a)):\n",
    "        if a[i] in name:\n",
    "            name[a[i]] += 1\n",
    "        else:\n",
    "            name[a[i]]=1\n",
    "    for i in name:\n",
    "        if name[i] > 1:\n",
    "            ppl.add(i)\n",
    "\n",
    "    return ppl\n",
    "\n",
    "a = [\"A\",\"A\",\"B\",\"C\",\"D\",\"D\",\"E\",\"E\",\"F\"]\n",
    "\n",
    "find_samename_dic(a)"
   ]
  },
  {
   "cell_type": "code",
   "execution_count": 34,
   "metadata": {},
   "outputs": [
    {
     "name": "stdout",
     "output_type": "stream",
     "text": [
      "[3, 4]\n"
     ]
    }
   ],
   "source": [
    "# print list\n",
    "list_sample = [3,4]\n",
    "\n",
    "print (list_sample)"
   ]
  },
  {
   "cell_type": "code",
   "execution_count": 46,
   "metadata": {},
   "outputs": [
    {
     "data": {
      "text/plain": [
       "{'x': 1, 'y': 2, 'z': 3}"
      ]
     },
     "execution_count": 46,
     "metadata": {},
     "output_type": "execute_result"
    }
   ],
   "source": [
    "# What is Dictionary\n",
    "a={1,2,3}\n",
    "b={\"x\":1,\"y\":2,\"z\":3}\n"
   ]
  }
 ],
 "metadata": {
  "kernelspec": {
   "display_name": "Python 3",
   "language": "python",
   "name": "python3"
  },
  "language_info": {
   "codemirror_mode": {
    "name": "ipython",
    "version": 3
   },
   "file_extension": ".py",
   "mimetype": "text/x-python",
   "name": "python",
   "nbconvert_exporter": "python",
   "pygments_lexer": "ipython3",
   "version": "3.6.2"
  }
 },
 "nbformat": 4,
 "nbformat_minor": 2
}
