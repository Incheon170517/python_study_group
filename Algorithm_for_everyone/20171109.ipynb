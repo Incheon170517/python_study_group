{
 "cells": [
  {
   "cell_type": "code",
   "execution_count": null,
   "metadata": {
    "collapsed": true
   },
   "outputs": [],
   "source": [
    "#python 3.5.2\n",
    "# 숫자 엔개 중에서 최댓값 찾기를 재귀 호출\n",
    "\n",
    "def get_max_value(a):\n",
    "    max = a[0]; \n",
    "    for i in range(len(a)):\n",
    "        if(max < a[i]):\n",
    "            max = a[i]\n",
    "    \n",
    "    return max\n",
    "    #print(max)\n",
    "       \n",
    "        \n",
    "    \n",
    "\n",
    "list = [ 1,3,5,2, 4];\n",
    "print(get_max_value(list))\n"
   ]
  }
 ],
 "metadata": {
  "kernelspec": {
   "display_name": "Python 3",
   "language": "python",
   "name": "python3"
  },
  "language_info": {
   "codemirror_mode": {
    "name": "ipython",
    "version": 3
   },
   "file_extension": ".py",
   "mimetype": "text/x-python",
   "name": "python",
   "nbconvert_exporter": "python",
   "pygments_lexer": "ipython3",
   "version": "3.6.3"
  }
 },
 "nbformat": 4,
 "nbformat_minor": 2
}
