{
 "cells": [
  {
   "cell_type": "code",
   "execution_count": 1,
   "metadata": {},
   "outputs": [
    {
     "name": "stdout",
     "output_type": "stream",
     "text": [
      "5\n"
     ]
    }
   ],
   "source": [
    "#python 3.5.2\n",
    "# 숫자 엔개 중에서 최댓값 찾기를 재귀 호출\n",
    "\n",
    "def get_max_value(a):\n",
    "    max = a[0]; \n",
    "    for i in range(len(a)):\n",
    "        if(max < a[i]):\n",
    "            max = a[i]\n",
    "    \n",
    "    return max\n",
    "    #print(max)\n",
    "       \n",
    "        \n",
    "    \n",
    "\n",
    "list = [ 1,3,5,2, 4];\n",
    "print(get_max_value(list))\n"
   ]
  },
  {
   "cell_type": "code",
   "execution_count": 2,
   "metadata": {},
   "outputs": [
    {
     "name": "stdout",
     "output_type": "stream",
     "text": [
      "6\n",
      "6\n"
     ]
    }
   ],
   "source": [
    "#1~a\n",
    "\n",
    "def fac(a):\n",
    "    if(a == 1):\n",
    "        return a;\n",
    "    return fac(a -1) * a\n",
    "    \n",
    "   \n",
    "def fac_b(a):\n",
    "    value = 1;\n",
    "    for i in range(1,a+1):\n",
    "        value = i * value\n",
    "    return value;\n",
    "\n",
    "\n",
    "print(fac(3))\n",
    "print(fac_b(3))\n"
   ]
  },
  {
   "cell_type": "code",
   "execution_count": 4,
   "metadata": {},
   "outputs": [
    {
     "name": "stdout",
     "output_type": "stream",
     "text": [
      "None\n"
     ]
    }
   ],
   "source": [
    "\n",
    "\n",
    "#python 3.5.2\n",
    "# 숫자 엔개 중에서 최댓값 찾기를 재귀 호출\n",
    "\n",
    "def max_value(a,b):\n",
    "    if(a < b):\n",
    "        return a\n",
    "    else:\n",
    "        return b\n",
    "\n",
    "def max_arr(a, arrlen):\n",
    "    if(arrlen == 1):\n",
    "       return a[0]\n",
    "    \n",
    "    #max_n_1 = max_arr(a, arrlen-1)\n",
    "    #2,4,1\n",
    "    \n",
    "    #max_value(max_n_1,a[arrlen-1])\n",
    "    #2,4,1 vs 5\n",
    "    # 2,4 vs 1\n",
    "    # 2 vs 4\n",
    "    \n",
    "    #brutal ->\n",
    "    # 2 vs 4\n",
    "    # 4 vs 1\n",
    "    # 4 vs 5\n",
    "    \n",
    "    #if max_n_1 > a[arrlen-1]:\n",
    "     #   return max_n_1\n",
    "    #else:\n",
    "    #    return a[arrlen -1]\n",
    "\n",
    "    \n",
    "#test case\n",
    "list = [ 2,4,1,5]\n",
    "print(max_arr(list , len(list)))"
   ]
  },
  {
   "cell_type": "code",
   "execution_count": null,
   "metadata": {
    "collapsed": true
   },
   "outputs": [],
   "source": []
  }
 ],
 "metadata": {
  "kernelspec": {
   "display_name": "Python 3",
   "language": "python",
   "name": "python3"
  },
  "language_info": {
   "codemirror_mode": {
    "name": "ipython",
    "version": 3
   },
   "file_extension": ".py",
   "mimetype": "text/x-python",
   "name": "python",
   "nbconvert_exporter": "python",
   "pygments_lexer": "ipython3",
   "version": "3.6.3"
  }
 },
 "nbformat": 4,
 "nbformat_minor": 2
}
